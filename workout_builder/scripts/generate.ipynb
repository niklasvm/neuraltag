{
 "cells": [
  {
   "cell_type": "code",
   "execution_count": null,
   "id": "5093769e",
   "metadata": {},
   "outputs": [],
   "source": [
    "import shutil\n",
    "import subprocess\n",
    "from dotenv import load_dotenv\n",
    "from pydantic_ai import Agent\n",
    "import yaml\n",
    "from workout_builder.py.workout_definition import WorkoutDefinition\n",
    "from pathlib import Path\n",
    "import logging\n",
    "import re\n",
    "load_dotenv(override=True)\n",
    "\n",
    "logging.basicConfig(level=logging.INFO)\n",
    "logger = logging.getLogger(__name__)\n",
    "\n",
    "\n",
    "async def generate_workout(workout_description: str, model: str, use_structured_output: bool) -> WorkoutDefinition:\n",
    "    schema = WorkoutDefinition.model_json_schema()\n",
    "    \n",
    "    system_prompt = \"\"\"You are a helpful assistant that helps translate user requests into structured workout definitions.\n",
    "    Also give the workout a creative name and description.\"\"\"\n",
    "    \n",
    "    if not use_structured_output:\n",
    "        system_prompt = f\"\"\"\n",
    "        {system_prompt}.\n",
    "        Use the json schema for the output:\n",
    "        ```\n",
    "        {schema}\n",
    "        ```\n",
    "        \n",
    "        \"\"\"\n",
    "        agent = Agent(model=model)\n",
    "        prompt = f\"\"\"Help me generate a json file for the workout: {workout_description}\"\"\"\n",
    "        result = await agent.run(system_prompt + prompt)\n",
    "\n",
    "        # extract text between markdown code blocks\n",
    "        match = re.search(r\"```(json)?\\n(.*?)\\n```\", result.output, re.DOTALL)\n",
    "        if match:\n",
    "            json_text = match.group(2)\n",
    "            result.output = json_text\n",
    "        else:\n",
    "            print(\"No code block found\")\n",
    "\n",
    "        workout: WorkoutDefinition = WorkoutDefinition.model_validate_json(json_text)\n",
    "    else:\n",
    "        agent = Agent(model=model, system_prompt=system_prompt)\n",
    "        prompt = f\"\"\"Help me generate a workout for: {workout_description}\"\"\"\n",
    "        result = agent.run_sync(prompt,output_type=WorkoutDefinition)\n",
    "\n",
    "        workout = result.output\n",
    "\n",
    "    print(f\"💡 Created workout: {workout.metadata.name}\")\n",
    "    return workout\n",
    "\n",
    "\n",
    "def _sanitize_name(n: str) -> str:\n",
    "    # Mirror Java sanitizeName: keep A-Za-z0-9 _- then trim length 30 then replace spaces with '_' for filename\n",
    "    cleaned = re.sub(r\"[^A-Za-z0-9 _-]\", \"\", n)[:30]\n",
    "    return cleaned.replace(\" \", \"_\")\n",
    "\n",
    "def encode_to_fit(yaml_file: str, fit_file: str):\n",
    "    \"\"\"Encode a YAML workout to FIT using Java encoder without passing an explicit name.\n",
    "    The Java program will read metadata.name. We post-compute expected filename and move it to fit_file.\"\"\"\n",
    "    JAVA_DIR = Path(\n",
    "        \"/Users/niklasvonmaltzahn/Documents/personal/neuraltag/workout_builder/java\"\n",
    "    )\n",
    "    JAVA_BUILD = JAVA_DIR / \"build\"\n",
    "    JAVA_LIB_DIR = JAVA_DIR / \"lib\"\n",
    "    FIT_JAR = JAVA_LIB_DIR / \"fit.jar\"\n",
    "    SNAKEYAML_JAR = JAVA_LIB_DIR / \"snakeyaml-2.2.jar\"\n",
    "    CLASSPATH = \":\".join([str(JAVA_BUILD), str(FIT_JAR), str(SNAKEYAML_JAR)])\n",
    "    ENCODER_CLASS = \"com.neuraltag.workout.EncodeYamlWorkout\"\n",
    "\n",
    "    # Parse YAML to discover metadata.name for expected filename\n",
    "    with open(yaml_file, \"r\") as yf:\n",
    "        data = yaml.safe_load(yf)\n",
    "    meta_name = data.get(\"metadata\", {}).get(\"name\", \"Workout\")\n",
    "    produced_filename = f\"{_sanitize_name(meta_name)}.fit\"\n",
    "\n",
    "    command = f\"java -cp {CLASSPATH} {ENCODER_CLASS} {yaml_file}\"\n",
    "    subprocess.run(command, shell=True, check=True)\n",
    "\n",
    "    # Move generated FIT to desired location\n",
    "    shutil.move(produced_filename, fit_file)\n",
    "    logger.info(f\"Encoded workout using metadata name '{meta_name}' -> {fit_file}\")\n",
    "\n"
   ]
  },
  {
   "cell_type": "code",
   "execution_count": null,
   "id": "6558ad5f",
   "metadata": {},
   "outputs": [],
   "source": [
    "\n",
    "logger.info(\"Starting workout generation\")\n",
    "input = \"5 min warmup + 5 x (30s@4:20 + 30s rest) + 6x[1km@(3:45-3:50) + 1 min rest) ] + 15 min cool down @ 6:00\"\n",
    "\n",
    "logger.info(f\"Converting `{input}` to yaml\")\n",
    "workout = await generate_workout(\n",
    "    workout_description=input,\n",
    "    # model=\"google-gla:gemma-3-27b-it\",\n",
    "    model = \"google-gla:gemini-2.5-flash-lite\",\n",
    "    use_structured_output=False,\n",
    ")\n",
    "print(yaml.dump(workout.model_dump(mode=\"json\", exclude_none=True),sort_keys=False))\n"
   ]
  },
  {
   "cell_type": "code",
   "execution_count": null,
   "id": "d506ddf0",
   "metadata": {},
   "outputs": [
    {
     "name": "stderr",
     "output_type": "stream",
     "text": [
      "INFO:__main__:💾 Wrote workout to /Users/niklasvonmaltzahn/Documents/personal/neuraltag/workout_builder/examples/the_endurance_builder.yaml\n",
      "and /Users/niklasvonmaltzahn/Documents/personal/neuraltag/workout_builder/examples/the_endurance_builder.fit\n"
     ]
    },
    {
     "name": "stdout",
     "output_type": "stream",
     "text": [
      "Wrote the_endurance_builder.fit\n",
      "Created FIT workout with 8 steps (including repeat controllers).\n"
     ]
    }
   ],
   "source": [
    "name = workout.metadata.name.replace(\" \", \"_\").lower()\n",
    "yaml_file = f\"/Users/niklasvonmaltzahn/Documents/personal/neuraltag/workout_builder/examples/{name}.yaml\"\n",
    "fit_file = f\"/Users/niklasvonmaltzahn/Documents/personal/neuraltag/workout_builder/examples/{name}.fit\"\n",
    "with open(yaml_file, \"w\") as f:\n",
    "    yaml.dump(workout.model_dump(mode=\"json\", exclude_none=True), f,sort_keys=False,indent=4)\n",
    "\n",
    "# Encode without passing name (Java reads metadata.name)\n",
    "encode_to_fit(yaml_file, fit_file)\n",
    "logger.info(f\"💾 Wrote workout to {yaml_file}\\nand {fit_file}\")\n"
   ]
  },
  {
   "cell_type": "code",
   "execution_count": null,
   "id": "c262e116",
   "metadata": {},
   "outputs": [],
   "source": []
  }
 ],
 "metadata": {
  "kernelspec": {
   "display_name": "src",
   "language": "python",
   "name": "python3"
  },
  "language_info": {
   "codemirror_mode": {
    "name": "ipython",
    "version": 3
   },
   "file_extension": ".py",
   "mimetype": "text/x-python",
   "name": "python",
   "nbconvert_exporter": "python",
   "pygments_lexer": "ipython3",
   "version": "3.11.11"
  }
 },
 "nbformat": 4,
 "nbformat_minor": 5
}
